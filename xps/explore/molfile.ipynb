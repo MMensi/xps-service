{
 "cells": [
  {
   "cell_type": "code",
   "execution_count": 33,
   "metadata": {},
   "outputs": [],
   "source": [
    "from rdkit import Chem\n",
    "from rdkit.Chem import AllChem\n",
    "from ase.io import read\n",
    "from quippy.descriptors import Descriptor\n",
    "import pickle\n",
    "\n"
   ]
  },
  {
   "cell_type": "code",
   "execution_count": 27,
   "metadata": {},
   "outputs": [
    {
     "name": "stdout",
     "output_type": "stream",
     "text": [
      "['\\n', '     RDKit          3D\\n', '\\n', '  8  7  0  0  0  0  0  0  0  0999 V2000\\n', '   -0.7533   -0.0093    0.0601 C   0  0  0  0  0  0  0  0  0  0  0  0\\n', '    0.7504   -0.0263    0.0011 C   0  0  0  0  0  0  0  0  0  0  0  0\\n', '   -1.1589    0.1177    1.0753 H   0  0  0  0  0  0  0  0  0  0  0  0\\n', '   -1.0772    0.8427   -0.5977 H   0  0  0  0  0  0  0  0  0  0  0  0\\n', '   -1.1758   -0.9182   -0.4328 H   0  0  0  0  0  0  0  0  0  0  0  0\\n', '    1.0733   -0.5749   -0.9198 H   0  0  0  0  0  0  0  0  0  0  0  0\\n', '    1.2143   -0.4556    0.9130 H   0  0  0  0  0  0  0  0  0  0  0  0\\n', '    1.1271    1.0239   -0.0993 H   0  0  0  0  0  0  0  0  0  0  0  0\\n', '  1  2  1  0\\n', '  1  3  1  0\\n', '  1  4  1  0\\n', '  1  5  1  0\\n', '  2  6  1  0\\n', '  2  7  1  0\\n', '  2  8  1  0\\n', 'M  END\\n']\n",
      "<class 'rdkit.Chem.rdchem.Mol'>\n"
     ]
    },
    {
     "name": "stderr",
     "output_type": "stream",
     "text": [
      "[14:18:00] Molecule does not have explicit Hs. Consider calling AddHs()\n"
     ]
    }
   ],
   "source": [
    "def molfile_to_xyz(molfile:str):\n",
    "    temp_file = 'temp2.mol'\n",
    "    with open(temp_file, 'w+') as f:\n",
    "        f.writelines(molfile) #write molfile to temporary file\n",
    "    mol = Chem.MolFromMolFile(temp_file) # Read temp file into RDKit molecule\n",
    "    print(type(mol))\n",
    "    #mol = Chem.AddHs(mol)# post-process molecule\n",
    "    AllChem.EmbedMolecule(mol)\n",
    "    Chem.MolToMolFile(mol, temp_file)    # Write RDKit molecule to a temporary file\n",
    "    molecule = read('temp.mol') # Read the temporary file into ASE Atoms object\n",
    "    return molecule\n",
    "FILE = 'temp.mol'\n",
    "with open(FILE, 'r+') as f:\n",
    "    content = f.readlines()\n",
    "print(content)\n",
    "mol = molfile_to_xyz(content)"
   ]
  },
  {
   "cell_type": "code",
   "execution_count": 34,
   "metadata": {},
   "outputs": [
    {
     "name": "stdout",
     "output_type": "stream",
     "text": [
      "2\n"
     ]
    }
   ],
   "source": [
    "Z = 6 \n",
    "cutoff = 5; dc = 0.5; sigma = 0.5\n",
    "zeta = 6\n",
    "soap = {\"C\": 'soap_turbo alpha_max={8 8 8} l_max=8 rcut_soft=%.4f rcut_hard=%.4f atom_sigma_r={%.4f %.4f %.4f} atom_sigma_t={%.4f %.4f %.4f} \\\n",
    "               atom_sigma_r_scaling={0. 0. 0.} atom_sigma_t_scaling={0. 0. 0.} radial_enhancement=1 amplitude_scaling={1. 1. 1.} \\\n",
    "               basis=\"poly3gauss\" scaling_mode=\"polynomial\" species_Z={1 6 8} n_species=3 central_index=2 central_weight={1. 1. 1.} \\\n",
    "               compress_mode=trivial' % (cutoff-dc, cutoff, *(6*[sigma])),\n",
    "        \"O\": 'soap_turbo alpha_max={8 8 8} l_max=8 rcut_soft=%.4f rcut_hard=%.4f atom_sigma_r={%.4f %.4f %.4f} atom_sigma_t={%.4f %.4f %.4f} \\\n",
    "               atom_sigma_r_scaling={0. 0. 0.} atom_sigma_t_scaling={0. 0. 0.} radial_enhancement=1 amplitude_scaling={1. 1. 1.} \\\n",
    "               basis=\"poly3gauss\" scaling_mode=\"polynomial\" species_Z={1 6 8} n_species=3 central_index=3 central_weight={1. 1. 1.} \\\n",
    "               compress_mode=trivial' % (cutoff-dc, cutoff, *(6*[sigma]))}\n",
    "\n",
    "desc=Descriptor(soap[\"C\"])\n",
    "\n",
    "# First we create the descriptor object\n",
    "\n",
    "Z_O = 8 \n",
    "desc_O = Descriptor(soap[\"O\"])\n",
    "\n",
    "def xyz_to_soap(mol):\n",
    "    elements = []\n",
    "    if (\"C\" in mol.symbols) == True:\n",
    "        descMol = desc.calc(mol) #descriptor for each molecule\n",
    "\n",
    "        if 'data' in descMol:\n",
    "           desc_data = descMol['data'] #get the data from the descriptor object if exist\n",
    "           print(len(desc_data))\n",
    "           for element in desc_data:\n",
    "               elements.append(element)\n",
    "    return elements\n",
    "\n",
    "els = xyz_to_soap(mol)\n"
   ]
  },
  {
   "cell_type": "code",
   "execution_count": 50,
   "metadata": {},
   "outputs": [
    {
     "name": "stdout",
     "output_type": "stream",
     "text": [
      "False\n",
      "(array([541.63035912, 541.60622392]), array([1.80196885, 1.80147875]))\n"
     ]
    },
    {
     "data": {
      "text/plain": [
       "(array([541.63035912, 541.60622392]), array([1.80196885, 1.80147875]))"
      ]
     },
     "execution_count": 50,
     "metadata": {},
     "output_type": "execute_result"
    }
   ],
   "source": [
    "import os\n",
    "MODEL_O = '../MLmodels/XPS_GPR_O1s.pkl'\n",
    "MODEL_C = '../MLmodels/XPS_GPR_C1s_new.pkl'\n",
    "print(os.path.exists(MODEL_C))\n",
    "def soap_to_BE(soap):\n",
    "    model = pickle.load(open(MODEL_O, 'rb'))\n",
    "\n",
    "    be = model.predict(soap, return_std = True)\n",
    "    print(be)\n",
    "    return be\n",
    "\n",
    "soap_to_BE(els)"
   ]
  }
 ],
 "metadata": {
  "kernelspec": {
   "display_name": "predirra",
   "language": "python",
   "name": "python3"
  },
  "language_info": {
   "codemirror_mode": {
    "name": "ipython",
    "version": 3
   },
   "file_extension": ".py",
   "mimetype": "text/x-python",
   "name": "python",
   "nbconvert_exporter": "python",
   "pygments_lexer": "ipython3",
   "version": "3.10.12"
  }
 },
 "nbformat": 4,
 "nbformat_minor": 2
}
