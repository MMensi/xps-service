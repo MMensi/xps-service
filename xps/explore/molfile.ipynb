{
 "cells": [
  {
   "cell_type": "code",
   "execution_count": 2,
   "metadata": {},
   "outputs": [],
   "source": [
    "from rdkit import Chem\n",
    "from rdkit.Chem import AllChem\n",
    "from ase.io import read\n"
   ]
  },
  {
   "cell_type": "code",
   "execution_count": 23,
   "metadata": {},
   "outputs": [
    {
     "name": "stdout",
     "output_type": "stream",
     "text": [
      "['\\n', '     RDKit          3D\\n', '\\n', '  8  7  0  0  0  0  0  0  0  0999 V2000\\n', '   -0.7533   -0.0093    0.0601 C   0  0  0  0  0  0  0  0  0  0  0  0\\n', '    0.7504   -0.0263    0.0011 C   0  0  0  0  0  0  0  0  0  0  0  0\\n', '   -1.1589    0.1177    1.0753 H   0  0  0  0  0  0  0  0  0  0  0  0\\n', '   -1.0772    0.8427   -0.5977 H   0  0  0  0  0  0  0  0  0  0  0  0\\n', '   -1.1758   -0.9182   -0.4328 H   0  0  0  0  0  0  0  0  0  0  0  0\\n', '    1.0733   -0.5749   -0.9198 H   0  0  0  0  0  0  0  0  0  0  0  0\\n', '    1.2143   -0.4556    0.9130 H   0  0  0  0  0  0  0  0  0  0  0  0\\n', '    1.1271    1.0239   -0.0993 H   0  0  0  0  0  0  0  0  0  0  0  0\\n', '  1  2  1  0\\n', '  1  3  1  0\\n', '  1  4  1  0\\n', '  1  5  1  0\\n', '  2  6  1  0\\n', '  2  7  1  0\\n', '  2  8  1  0\\n', 'M  END\\n']\n",
      "<class 'rdkit.Chem.rdchem.Mol'>\n",
      "Atoms(symbols='C2H6', pbc=False)\n"
     ]
    },
    {
     "name": "stderr",
     "output_type": "stream",
     "text": [
      "[13:25:53] Molecule does not have explicit Hs. Consider calling AddHs()\n"
     ]
    }
   ],
   "source": [
    "def molfile_to_xyz(molfile:str):\n",
    "    temp_file = 'temp2.mol'\n",
    "    with open(temp_file, 'w+') as f:\n",
    "        f.writelines(molfile) #write molfile to temporary file\n",
    "    mol = Chem.MolFromMolFile(temp_file) # Read temp file into RDKit molecule\n",
    "    print(type(mol))\n",
    "    #mol = Chem.AddHs(mol)# post-process molecule\n",
    "    AllChem.EmbedMolecule(mol)\n",
    "    Chem.MolToMolFile(mol, temp_file)    # Write RDKit molecule to a temporary file\n",
    "    molecule = read('temp.mol') # Read the temporary file into ASE Atoms object\n",
    "    return molecule\n",
    "FILE = 'temp.mol'\n",
    "with open(FILE, 'r+') as f:\n",
    "    content = f.readlines()\n",
    "print(content)\n",
    "print(molfile_to_xyz(content))"
   ]
  },
  {
   "cell_type": "code",
   "execution_count": 21,
   "metadata": {},
   "outputs": [
    {
     "name": "stdout",
     "output_type": "stream",
     "text": [
      "['\\n', '     RDKit          3D\\n', '\\n', '  8  7  0  0  0  0  0  0  0  0999 V2000\\n', '   -0.7467   -0.0178    0.0860 C   0  0  0  0  0  0  0  0  0  0  0  0\\n', '    0.7705   -0.0461   -0.0328 C   0  0  0  0  0  0  0  0  0  0  0  0\\n', '   -1.0984    0.5678    0.9398 H   0  0  0  0  0  0  0  0  0  0  0  0\\n', '   -1.1004    0.5334   -0.8319 H   0  0  0  0  0  0  0  0  0  0  0  0\\n', '   -1.2007   -1.0086    0.0402 H   0  0  0  0  0  0  0  0  0  0  0  0\\n', '    1.2712   -0.2380    0.9211 H   0  0  0  0  0  0  0  0  0  0  0  0\\n', '    1.0495    1.0009   -0.3381 H   0  0  0  0  0  0  0  0  0  0  0  0\\n', '    1.0551   -0.7915   -0.7843 H   0  0  0  0  0  0  0  0  0  0  0  0\\n', '  1  2  1  0\\n', '  1  3  1  0\\n', '  1  4  1  0\\n', '  1  5  1  0\\n', '  2  6  1  0\\n', '  2  7  1  0\\n', '  2  8  1  0\\n', 'M  END\\n']\n",
      "Atoms(symbols='C2H6', pbc=False)\n"
     ]
    }
   ],
   "source": [
    "FILE = 'temp.mol'\n",
    "with open(FILE, 'r+') as f:\n",
    "    content = f.readlines()\n",
    "print(content)\n",
    "\n",
    "def molfile_to_xyz(molfile:str):\n",
    "    temp_file = 'temp2.mol'\n",
    "    with open(temp_file, 'w+') as f:\n",
    "        f.writelines(molfile) #write molfile to temporary file\n",
    "    mol = Chem.MolFromMolFile(temp_file) # Read temp file into RDKit molecule\n",
    "    mol = Chem.AddHs(mol)# post-process molecule\n",
    "    AllChem.EmbedMolecule(mol)\n",
    "    Chem.MolToMolFile(mol, temp_file)    # Write RDKit molecule to a temporary file\n",
    "    molecule = read('temp.mol') # Read the temporary file into ASE Atoms object\n",
    "    return molecule\n",
    "\n",
    "\n",
    "\n",
    "mol = molfile_to_xyz(content)\n",
    "\n",
    "print(mol)\n"
   ]
  },
  {
   "cell_type": "code",
   "execution_count": 13,
   "metadata": {},
   "outputs": [
    {
     "name": "stdout",
     "output_type": "stream",
     "text": [
      "<rdkit.Chem.rdchem.Mol object at 0x7fa491cb5c40>\n",
      "<rdkit.Chem.rdchem.Mol object at 0x7fa491cb65e0>\n",
      "{}\n",
      "Atoms(symbols='C2H6', pbc=False)\n"
     ]
    }
   ],
   "source": [
    "def smiles_to_xyz(smiles):\n",
    "    mol = Chem.MolFromSmiles(smiles)\n",
    "    print(mol)\n",
    "    mol = Chem.AddHs(mol)\n",
    "    print(mol)\n",
    "    AllChem.EmbedMolecule(mol)\n",
    "    print(mol)\n",
    "    Chem.MolToMolFile(mol, 'temp.mol')    # Write RDKit molecule to a temporary file\n",
    "    molecule = read('temp.mol') # Read the temporary file into ASE Atoms object\n",
    "    return molecule\n",
    "\n",
    "print(smiles_to_xyz('CC'))"
   ]
  },
  {
   "cell_type": "code",
   "execution_count": 3,
   "metadata": {},
   "outputs": [],
   "source": [
    "\n",
    "\n",
    "def smiles_to_xyz(smiles):\n",
    "    mol = Chem.MolFromSmiles(smiles)\n",
    "    mol = Chem.AddHs(mol)\n",
    "    AllChem.EmbedMolecule(mol)\n",
    "    Chem.MolToMolFile(mol, 'temp.mol')    # Write RDKit molecule to a temporary file\n",
    "    molecule = read('temp.mol') # Read the temporary file into ASE Atoms object\n",
    "    return molecule"
   ]
  }
 ],
 "metadata": {
  "kernelspec": {
   "display_name": "predirra",
   "language": "python",
   "name": "python3"
  },
  "language_info": {
   "codemirror_mode": {
    "name": "ipython",
    "version": 3
   },
   "file_extension": ".py",
   "mimetype": "text/x-python",
   "name": "python",
   "nbconvert_exporter": "python",
   "pygments_lexer": "ipython3",
   "version": "3.10.12"
  }
 },
 "nbformat": 4,
 "nbformat_minor": 2
}
