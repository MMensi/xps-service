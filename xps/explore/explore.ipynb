{
 "cells": [
  {
   "cell_type": "code",
   "execution_count": 3,
   "metadata": {},
   "outputs": [],
   "source": [
    "import pickle\n",
    "from quippy.descriptors import Descriptor\n",
    "from ase.io import read\n",
    "import numpy as np\n",
    "from sklearn.model_selection import train_test_split\n",
    "#The Gaussian model\n",
    "from sklearn.gaussian_process import GaussianProcessRegressor\n",
    "from sklearn.gaussian_process.kernels import RBF\n",
    "from sklearn.gaussian_process.kernels import WhiteKernel\n",
    "# the KRR model\n",
    "from sklearn.kernel_ridge import KernelRidge\n",
    "\n",
    "from rdkit import Chem\n",
    "from rdkit.Chem import AllChem\n",
    "\n",
    "import sklearn\n",
    "model = pickle.load(open('../MLmodels/XPS_GPR_C1s_new.pkl', 'rb'))\n"
   ]
  },
  {
   "cell_type": "code",
   "execution_count": 4,
   "metadata": {},
   "outputs": [
    {
     "name": "stdout",
     "output_type": "stream",
     "text": [
      "GaussianProcessRegressor(kernel=1**2 * RBF(length_scale=0.1) + WhiteKernel(noise_level=0.01),\n",
      "                         random_state=42)\n"
     ]
    }
   ],
   "source": [
    "print(model)"
   ]
  },
  {
   "cell_type": "code",
   "execution_count": 6,
   "metadata": {},
   "outputs": [],
   "source": [
    "Z = 6 # compute environment around atoms of a given Z. Here C atoms\n",
    "descriptor = Descriptor(\"soap atom_sigma=0.5 n_max=3 l_max=3 cutoff=3.0 Z={:d} n_species=3 species_Z='1 6 8'\".format(Z))\n",
    "\n",
    "\n",
    "def smiles_to_xyz(smiles):\n",
    "# smiles to mol\n",
    "    mol = Chem.MolFromSmiles(smiles)\n",
    "    mol = Chem.AddHs(mol)\n",
    "    AllChem.EmbedMolecule(mol)\n",
    "    Chem.MolToMolFile(mol, 'temp.mol')    # Write RDKit molecule to a temporary file\n",
    "    molecule = read('temp.mol') # Read the temporary file into ASE Atoms object\n",
    "    return molecule"
   ]
  },
  {
   "cell_type": "code",
   "execution_count": 7,
   "metadata": {},
   "outputs": [
    {
     "name": "stdout",
     "output_type": "stream",
     "text": [
      "Atoms(symbols='C2H6', pbc=False)\n"
     ]
    }
   ],
   "source": [
    "smiles = 'CC'\n",
    "xyz = smiles_to_xyz(smiles)\n",
    "print(xyz)"
   ]
  },
  {
   "cell_type": "code",
   "execution_count": 8,
   "metadata": {},
   "outputs": [
    {
     "name": "stdout",
     "output_type": "stream",
     "text": [
      "[1 2]\n",
      "2\n",
      "[array([ 3.96943617e-02,  1.51535261e-04,  8.50086701e-05,  4.16124780e-05,\n",
      "        1.73420182e-01,  8.61631993e-03,  4.83360773e-03,  2.36609182e-03,\n",
      "        3.78826593e-01,  2.44962685e-01,  1.37419887e-01,  6.72681701e-02,\n",
      "       -1.70675900e-05, -4.15891408e-07, -1.71532215e-07, -1.59157773e-07,\n",
      "       -5.27263878e-05, -1.67214145e-05, -6.89665607e-06, -6.39912210e-06,\n",
      "        3.66931998e-09,  6.88283071e-10,  4.63856583e-10,  7.17424019e-10,\n",
      "        2.02971958e-01,  5.71406625e-05,  4.12758412e-05,  2.45143369e-05,\n",
      "        6.27035109e-01,  2.29740940e-03,  1.65954539e-03,  9.85628369e-04,\n",
      "       -6.17112612e-05, -1.08367404e-07, -5.29935335e-08, -6.10866046e-08,\n",
      "        5.18935359e-01,  1.08003574e-05,  1.00874943e-05,  7.36639739e-06,\n",
      "        3.06800802e-02,  2.29740454e-03,  1.65954157e-03,  9.85626459e-04,\n",
      "        9.47790406e-02,  9.23699261e-02,  6.67238868e-02,  3.96282960e-02,\n",
      "       -9.32792127e-06, -4.35703322e-06, -2.13066456e-06, -2.45605557e-06,\n",
      "        1.10929923e-01,  6.14108808e-04,  5.73575381e-04,  4.18853689e-04,\n",
      "        1.18564360e-02,  1.74591273e-02,  1.63067611e-02,  1.19080199e-02,\n",
      "       -6.88746864e-06, -5.15699645e-07, -3.72438658e-07, -2.21119177e-07,\n",
      "       -2.12772478e-05, -2.07343275e-05, -1.49743491e-05, -8.89036217e-06,\n",
      "        2.09405467e-09,  9.78025617e-10,  4.78169309e-10,  5.51000819e-10,\n",
      "       -2.49030107e-05, -1.37849338e-07, -1.28723286e-07, -9.39672246e-08,\n",
      "       -3.76419665e-06, -5.54238751e-06, -5.17546436e-06, -3.77805785e-06,\n",
      "        5.97531012e-10,  8.79713483e-10,  8.21298331e-10,  5.99332267e-10,\n",
      "        0.00000000e+00,  0.00000000e+00,  0.00000000e+00,  0.00000000e+00,\n",
      "        0.00000000e+00,  0.00000000e+00,  0.00000000e+00,  0.00000000e+00,\n",
      "        0.00000000e+00,  0.00000000e+00,  0.00000000e+00,  0.00000000e+00,\n",
      "        0.00000000e+00,  0.00000000e+00,  0.00000000e+00,  0.00000000e+00,\n",
      "        0.00000000e+00,  0.00000000e+00,  0.00000000e+00,  0.00000000e+00,\n",
      "        0.00000000e+00,  0.00000000e+00,  0.00000000e+00,  0.00000000e+00,\n",
      "        0.00000000e+00,  0.00000000e+00,  0.00000000e+00,  0.00000000e+00,\n",
      "        0.00000000e+00,  0.00000000e+00,  0.00000000e+00,  0.00000000e+00,\n",
      "        0.00000000e+00,  0.00000000e+00,  0.00000000e+00,  0.00000000e+00,\n",
      "        0.00000000e+00,  0.00000000e+00,  0.00000000e+00,  0.00000000e+00,\n",
      "        0.00000000e+00,  0.00000000e+00,  0.00000000e+00,  0.00000000e+00,\n",
      "        0.00000000e+00,  0.00000000e+00,  0.00000000e+00,  0.00000000e+00,\n",
      "        0.00000000e+00,  0.00000000e+00,  0.00000000e+00,  0.00000000e+00,\n",
      "        0.00000000e+00,  0.00000000e+00,  0.00000000e+00,  0.00000000e+00,\n",
      "        0.00000000e+00,  0.00000000e+00,  0.00000000e+00,  0.00000000e+00,\n",
      "        0.00000000e+00,  0.00000000e+00,  0.00000000e+00,  0.00000000e+00,\n",
      "        0.00000000e+00,  0.00000000e+00,  0.00000000e+00,  0.00000000e+00,\n",
      "        0.00000000e+00,  0.00000000e+00,  0.00000000e+00,  0.00000000e+00,\n",
      "        0.00000000e+00,  0.00000000e+00,  0.00000000e+00,  0.00000000e+00,\n",
      "        0.00000000e+00,  0.00000000e+00,  0.00000000e+00,  0.00000000e+00,\n",
      "        0.00000000e+00,  0.00000000e+00,  0.00000000e+00,  0.00000000e+00,\n",
      "        0.00000000e+00,  0.00000000e+00,  0.00000000e+00,  0.00000000e+00,\n",
      "        0.00000000e+00,  0.00000000e+00,  0.00000000e+00,  0.00000000e+00,\n",
      "        0.00000000e+00,  0.00000000e+00,  0.00000000e+00,  0.00000000e+00,\n",
      "        0.00000000e+00]), array([ 3.82518923e-02,  1.50643098e-04,  8.48729560e-05,  3.98240857e-05,\n",
      "        1.71578770e-01,  8.56558878e-03,  4.82588927e-03,  2.26440287e-03,\n",
      "        3.84808079e-01,  2.43520320e-01,  1.37200401e-01,  6.43771258e-02,\n",
      "       -2.01348668e-05, -6.33222418e-07, -3.16172607e-07, -2.10455785e-07,\n",
      "       -6.38622755e-05, -2.54594627e-05, -1.27120945e-05, -8.46161838e-06,\n",
      "        5.29925234e-09,  1.43846880e-09,  8.54666248e-10,  9.24328434e-10,\n",
      "        1.98537014e-01,  5.67378767e-05,  4.10163427e-05,  2.38247903e-05,\n",
      "        6.29704960e-01,  2.28121421e-03,  1.64911135e-03,  9.57904026e-04,\n",
      "       -7.38962370e-05, -1.65866639e-07, -1.01527751e-07, -8.39558066e-08,\n",
      "        5.15228704e-01,  1.07232125e-05,  1.00154413e-05,  7.31378064e-06,\n",
      "        3.00097194e-02,  2.28121008e-03,  1.64910814e-03,  9.57902463e-04,\n",
      "        9.51826000e-02,  9.17187804e-02,  6.63043746e-02,  3.85136077e-02,\n",
      "       -1.11697325e-05, -6.66885458e-06, -4.08203731e-06, -3.37553754e-06,\n",
      "        1.10137572e-01,  6.09722348e-04,  5.69478443e-04,  4.15861898e-04,\n",
      "        1.17717478e-02,  1.73344201e-02,  1.61902850e-02,  1.18229632e-02,\n",
      "       -6.73697722e-06, -5.12064467e-07, -3.70097160e-07, -2.14899470e-07,\n",
      "       -2.13678441e-05, -2.05881645e-05, -1.48802011e-05, -8.64028876e-06,\n",
      "        2.50752872e-09,  1.49696141e-09,  9.16101483e-10,  7.57280889e-10,\n",
      "       -2.47251333e-05, -1.36864707e-07, -1.27803841e-07, -9.32960349e-08,\n",
      "       -3.73730973e-06, -5.50279931e-06, -5.13849702e-06, -3.75107191e-06,\n",
      "        5.93262964e-10,  8.73429860e-10,  8.15431957e-10,  5.95051353e-10,\n",
      "        0.00000000e+00,  0.00000000e+00,  0.00000000e+00,  0.00000000e+00,\n",
      "        0.00000000e+00,  0.00000000e+00,  0.00000000e+00,  0.00000000e+00,\n",
      "        0.00000000e+00,  0.00000000e+00,  0.00000000e+00,  0.00000000e+00,\n",
      "        0.00000000e+00,  0.00000000e+00,  0.00000000e+00,  0.00000000e+00,\n",
      "        0.00000000e+00,  0.00000000e+00,  0.00000000e+00,  0.00000000e+00,\n",
      "        0.00000000e+00,  0.00000000e+00,  0.00000000e+00,  0.00000000e+00,\n",
      "        0.00000000e+00,  0.00000000e+00,  0.00000000e+00,  0.00000000e+00,\n",
      "        0.00000000e+00,  0.00000000e+00,  0.00000000e+00,  0.00000000e+00,\n",
      "        0.00000000e+00,  0.00000000e+00,  0.00000000e+00,  0.00000000e+00,\n",
      "        0.00000000e+00,  0.00000000e+00,  0.00000000e+00,  0.00000000e+00,\n",
      "        0.00000000e+00,  0.00000000e+00,  0.00000000e+00,  0.00000000e+00,\n",
      "        0.00000000e+00,  0.00000000e+00,  0.00000000e+00,  0.00000000e+00,\n",
      "        0.00000000e+00,  0.00000000e+00,  0.00000000e+00,  0.00000000e+00,\n",
      "        0.00000000e+00,  0.00000000e+00,  0.00000000e+00,  0.00000000e+00,\n",
      "        0.00000000e+00,  0.00000000e+00,  0.00000000e+00,  0.00000000e+00,\n",
      "        0.00000000e+00,  0.00000000e+00,  0.00000000e+00,  0.00000000e+00,\n",
      "        0.00000000e+00,  0.00000000e+00,  0.00000000e+00,  0.00000000e+00,\n",
      "        0.00000000e+00,  0.00000000e+00,  0.00000000e+00,  0.00000000e+00,\n",
      "        0.00000000e+00,  0.00000000e+00,  0.00000000e+00,  0.00000000e+00,\n",
      "        0.00000000e+00,  0.00000000e+00,  0.00000000e+00,  0.00000000e+00,\n",
      "        0.00000000e+00,  0.00000000e+00,  0.00000000e+00,  0.00000000e+00,\n",
      "        0.00000000e+00,  0.00000000e+00,  0.00000000e+00,  0.00000000e+00,\n",
      "        0.00000000e+00,  0.00000000e+00,  0.00000000e+00,  0.00000000e+00,\n",
      "        0.00000000e+00,  0.00000000e+00,  0.00000000e+00,  0.00000000e+00,\n",
      "        0.00000000e+00])]\n"
     ]
    }
   ],
   "source": [
    "def xyz_to_X(mol):\n",
    "    elements = []\n",
    "    if (\"C\" in mol.symbols) == True:\n",
    "        descMol = descriptor.calc(mol) #descriptor for each molecule\n",
    "        print(descMol['ci'])\n",
    "\n",
    "        if 'data' in descMol:\n",
    "           desc_data = descMol['data'] #get the data from the descriptor object if exist\n",
    "           print(len(desc_data))\n",
    "           for element in desc_data:\n",
    "               elements.append(element)\n",
    "    return elements\n",
    "X = xyz_to_X(xyz)\n",
    "print(X)"
   ]
  },
  {
   "cell_type": "code",
   "execution_count": 9,
   "metadata": {},
   "outputs": [
    {
     "ename": "ValueError",
     "evalue": "X has 181 features, but GaussianProcessRegressor is expecting 621 features as input.",
     "output_type": "error",
     "traceback": [
      "\u001b[0;31m---------------------------------------------------------------------------\u001b[0m",
      "\u001b[0;31mValueError\u001b[0m                                Traceback (most recent call last)",
      "Cell \u001b[0;32mIn[9], line 1\u001b[0m\n\u001b[0;32m----> 1\u001b[0m y \u001b[38;5;241m=\u001b[39m \u001b[43mmodel\u001b[49m\u001b[38;5;241;43m.\u001b[39;49m\u001b[43mpredict\u001b[49m\u001b[43m(\u001b[49m\u001b[43mX\u001b[49m\u001b[43m)\u001b[49m\n\u001b[1;32m      2\u001b[0m \u001b[38;5;28mprint\u001b[39m(y)\n",
      "File \u001b[0;32m~/.local/lib/python3.10/site-packages/sklearn/gaussian_process/_gpr.py:385\u001b[0m, in \u001b[0;36mGaussianProcessRegressor.predict\u001b[0;34m(self, X, return_std, return_cov)\u001b[0m\n\u001b[1;32m    382\u001b[0m \u001b[38;5;28;01melse\u001b[39;00m:\n\u001b[1;32m    383\u001b[0m     dtype, ensure_2d \u001b[38;5;241m=\u001b[39m \u001b[38;5;28;01mNone\u001b[39;00m, \u001b[38;5;28;01mFalse\u001b[39;00m\n\u001b[0;32m--> 385\u001b[0m X \u001b[38;5;241m=\u001b[39m \u001b[38;5;28;43mself\u001b[39;49m\u001b[38;5;241;43m.\u001b[39;49m\u001b[43m_validate_data\u001b[49m\u001b[43m(\u001b[49m\u001b[43mX\u001b[49m\u001b[43m,\u001b[49m\u001b[43m \u001b[49m\u001b[43mensure_2d\u001b[49m\u001b[38;5;241;43m=\u001b[39;49m\u001b[43mensure_2d\u001b[49m\u001b[43m,\u001b[49m\u001b[43m \u001b[49m\u001b[43mdtype\u001b[49m\u001b[38;5;241;43m=\u001b[39;49m\u001b[43mdtype\u001b[49m\u001b[43m,\u001b[49m\u001b[43m \u001b[49m\u001b[43mreset\u001b[49m\u001b[38;5;241;43m=\u001b[39;49m\u001b[38;5;28;43;01mFalse\u001b[39;49;00m\u001b[43m)\u001b[49m\n\u001b[1;32m    387\u001b[0m \u001b[38;5;28;01mif\u001b[39;00m \u001b[38;5;129;01mnot\u001b[39;00m \u001b[38;5;28mhasattr\u001b[39m(\u001b[38;5;28mself\u001b[39m, \u001b[38;5;124m\"\u001b[39m\u001b[38;5;124mX_train_\u001b[39m\u001b[38;5;124m\"\u001b[39m):  \u001b[38;5;66;03m# Unfitted;predict based on GP prior\u001b[39;00m\n\u001b[1;32m    388\u001b[0m     \u001b[38;5;28;01mif\u001b[39;00m \u001b[38;5;28mself\u001b[39m\u001b[38;5;241m.\u001b[39mkernel \u001b[38;5;129;01mis\u001b[39;00m \u001b[38;5;28;01mNone\u001b[39;00m:\n",
      "File \u001b[0;32m~/.local/lib/python3.10/site-packages/sklearn/base.py:588\u001b[0m, in \u001b[0;36mBaseEstimator._validate_data\u001b[0;34m(self, X, y, reset, validate_separately, **check_params)\u001b[0m\n\u001b[1;32m    585\u001b[0m     out \u001b[38;5;241m=\u001b[39m X, y\n\u001b[1;32m    587\u001b[0m \u001b[38;5;28;01mif\u001b[39;00m \u001b[38;5;129;01mnot\u001b[39;00m no_val_X \u001b[38;5;129;01mand\u001b[39;00m check_params\u001b[38;5;241m.\u001b[39mget(\u001b[38;5;124m\"\u001b[39m\u001b[38;5;124mensure_2d\u001b[39m\u001b[38;5;124m\"\u001b[39m, \u001b[38;5;28;01mTrue\u001b[39;00m):\n\u001b[0;32m--> 588\u001b[0m     \u001b[38;5;28;43mself\u001b[39;49m\u001b[38;5;241;43m.\u001b[39;49m\u001b[43m_check_n_features\u001b[49m\u001b[43m(\u001b[49m\u001b[43mX\u001b[49m\u001b[43m,\u001b[49m\u001b[43m \u001b[49m\u001b[43mreset\u001b[49m\u001b[38;5;241;43m=\u001b[39;49m\u001b[43mreset\u001b[49m\u001b[43m)\u001b[49m\n\u001b[1;32m    590\u001b[0m \u001b[38;5;28;01mreturn\u001b[39;00m out\n",
      "File \u001b[0;32m~/.local/lib/python3.10/site-packages/sklearn/base.py:389\u001b[0m, in \u001b[0;36mBaseEstimator._check_n_features\u001b[0;34m(self, X, reset)\u001b[0m\n\u001b[1;32m    386\u001b[0m     \u001b[38;5;28;01mreturn\u001b[39;00m\n\u001b[1;32m    388\u001b[0m \u001b[38;5;28;01mif\u001b[39;00m n_features \u001b[38;5;241m!=\u001b[39m \u001b[38;5;28mself\u001b[39m\u001b[38;5;241m.\u001b[39mn_features_in_:\n\u001b[0;32m--> 389\u001b[0m     \u001b[38;5;28;01mraise\u001b[39;00m \u001b[38;5;167;01mValueError\u001b[39;00m(\n\u001b[1;32m    390\u001b[0m         \u001b[38;5;124mf\u001b[39m\u001b[38;5;124m\"\u001b[39m\u001b[38;5;124mX has \u001b[39m\u001b[38;5;132;01m{\u001b[39;00mn_features\u001b[38;5;132;01m}\u001b[39;00m\u001b[38;5;124m features, but \u001b[39m\u001b[38;5;132;01m{\u001b[39;00m\u001b[38;5;28mself\u001b[39m\u001b[38;5;241m.\u001b[39m\u001b[38;5;18m__class__\u001b[39m\u001b[38;5;241m.\u001b[39m\u001b[38;5;18m__name__\u001b[39m\u001b[38;5;132;01m}\u001b[39;00m\u001b[38;5;124m \u001b[39m\u001b[38;5;124m\"\u001b[39m\n\u001b[1;32m    391\u001b[0m         \u001b[38;5;124mf\u001b[39m\u001b[38;5;124m\"\u001b[39m\u001b[38;5;124mis expecting \u001b[39m\u001b[38;5;132;01m{\u001b[39;00m\u001b[38;5;28mself\u001b[39m\u001b[38;5;241m.\u001b[39mn_features_in_\u001b[38;5;132;01m}\u001b[39;00m\u001b[38;5;124m features as input.\u001b[39m\u001b[38;5;124m\"\u001b[39m\n\u001b[1;32m    392\u001b[0m     )\n",
      "\u001b[0;31mValueError\u001b[0m: X has 181 features, but GaussianProcessRegressor is expecting 621 features as input."
     ]
    }
   ],
   "source": [
    "y = model.predict(X)\n",
    "print(y)"
   ]
  },
  {
   "cell_type": "code",
   "execution_count": null,
   "metadata": {},
   "outputs": [
    {
     "data": {
      "image/png": "[encoded data removed]",
      "text/plain": [
       "<Figure size 640x480 with 1 Axes>"
      ]
     },
     "metadata": {},
     "output_type": "display_data"
    }
   ],
   "source": [
    "import matplotlib.pyplot as plt\n",
    "plt.scatter(y_test, y)\n",
    "plt.show()\n",
    "\n"
   ]
  },
  {
   "cell_type": "code",
   "execution_count": null,
   "metadata": {},
   "outputs": [],
   "source": []
  }
 ],
 "metadata": {
  "kernelspec": {
   "display_name": "gptchallenge",
   "language": "python",
   "name": "python3"
  },
  "language_info": {
   "codemirror_mode": {
    "name": "ipython",
    "version": 3
   },
   "file_extension": ".py",
   "mimetype": "text/x-python",
   "name": "python",
   "nbconvert_exporter": "python",
   "pygments_lexer": "ipython3",
   "version": "3.10.12"
  }
 },
 "nbformat": 4,
 "nbformat_minor": 2
}
